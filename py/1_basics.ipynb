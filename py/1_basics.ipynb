{
 "cells": [
  {
   "cell_type": "markdown",
   "id": "a70ca3fb-ae5b-4367-a57a-70f6c774fa50",
   "metadata": {},
   "source": [
    "Ensure the version of Python is >=3.10"
   ]
  },
  {
   "cell_type": "code",
   "id": "33125dcb-02a1-478e-94cc-c14fe5b2fe37",
   "metadata": {
    "ExecuteTime": {
     "end_time": "2024-09-28T12:33:22.203274Z",
     "start_time": "2024-09-28T12:33:22.199232Z"
    }
   },
   "source": [
    "import sys\n",
    "print(sys.executable)"
   ],
   "outputs": [
    {
     "name": "stdout",
     "output_type": "stream",
     "text": [
      "/Users/knakajima/.pyenv/versions/3.10.15/bin/python3\n"
     ]
    }
   ],
   "execution_count": 1
  },
  {
   "cell_type": "markdown",
   "id": "afafe11a-ea09-412e-96fc-19e5554ff80d",
   "metadata": {},
   "source": [
    "Here, let us learn how to handle the hypergraph data you have on hand.  \n",
    "We first import *hypergraph.py*."
   ]
  },
  {
   "cell_type": "code",
   "id": "9809ec5f3f4c7ef1",
   "metadata": {
    "ExecuteTime": {
     "end_time": "2024-09-28T12:33:23.016846Z",
     "start_time": "2024-09-28T12:33:22.238873Z"
    }
   },
   "source": [
    "import hypergraph"
   ],
   "outputs": [],
   "execution_count": 2
  },
  {
   "cell_type": "markdown",
   "id": "5828845a-fb93-4c5c-b7b7-83ed90278018",
   "metadata": {},
   "source": [
    "Let us construct a toy hypergraph using *hypergraph.HyperGraph* class."
   ]
  },
  {
   "cell_type": "code",
   "id": "f61991185a107a75",
   "metadata": {
    "ExecuteTime": {
     "end_time": "2024-09-28T12:33:23.019663Z",
     "start_time": "2024-09-28T12:33:23.017942Z"
    }
   },
   "source": [
    "H = hypergraph.HyperGraph()"
   ],
   "outputs": [],
   "execution_count": 3
  },
  {
   "cell_type": "markdown",
   "id": "a3ea32f8-ed0a-4874-aa67-c6b0077d13a7",
   "metadata": {},
   "source": [
    "Represent hyperedges as a list of lists, where each list represents a hyperedge.  \n",
    "Then, construct the hypergraph from the hyperedges.  \n",
    "Note that *hypergraph.HyperGraph* object allows multiple hyperedges and self-loops.  \n",
    "For example, the hyperedge [0, 1, 2] is duplicated in E, which is defined below, and node 5 is duplicated in the hyperedge [3, 4, 5, 5].  \n",
    "Although multiple hyperedges and self-loops may be rarely included in the hypergraph data at your hand, its randomized instances generally include them.  "
   ]
  },
  {
   "cell_type": "code",
   "id": "9a0d39a1994db791",
   "metadata": {
    "ExecuteTime": {
     "end_time": "2024-09-28T12:33:23.022118Z",
     "start_time": "2024-09-28T12:33:23.020424Z"
    }
   },
   "source": [
    "E = [[0, 1, 2], [0, 1, 2], [2, 3, 4], [3, 4, 5, 5]]\n",
    "H.add_hyperedges_from(E)"
   ],
   "outputs": [],
   "execution_count": 4
  },
  {
   "cell_type": "markdown",
   "id": "cb852da8-170e-42fc-96f8-22f0beb81e94",
   "metadata": {},
   "source": [
    "Print basic properties of the hypergraph."
   ]
  },
  {
   "cell_type": "code",
   "id": "a0c8adfe481bce67",
   "metadata": {
    "ExecuteTime": {
     "end_time": "2024-09-28T12:33:23.025019Z",
     "start_time": "2024-09-28T12:33:23.023208Z"
    }
   },
   "source": [
    "H.print_info()"
   ],
   "outputs": [
    {
     "name": "stdout",
     "output_type": "stream",
     "text": [
      "Number of nodes: 6\n",
      "Number of hyperedges: 4\n",
      "Average degree of node: 2.1666666666666665\n",
      "Maximum degree of node: 3\n",
      "Frequency distribution of node degree: {2: 5, 3: 1}\n",
      "Average size of hyperedge: 3.25\n",
      "Maximum size of hyperedge: 4\n",
      "Frequency distribution of hyperedge size: {3: 3, 4: 1}\n",
      "Hypergraph is connected: True\n",
      "\n"
     ]
    }
   ],
   "execution_count": 5
  },
  {
   "cell_type": "markdown",
   "id": "45ea1700-3256-41e4-b27a-3729a477a5ba",
   "metadata": {},
   "source": [
    "Get the set of nodes."
   ]
  },
  {
   "cell_type": "code",
   "id": "1b9d1be70fbdac7d",
   "metadata": {
    "ExecuteTime": {
     "end_time": "2024-09-28T12:33:23.028356Z",
     "start_time": "2024-09-28T12:33:23.025576Z"
    }
   },
   "source": [
    "H.nodes()"
   ],
   "outputs": [
    {
     "data": {
      "text/plain": [
       "{0, 1, 2, 3, 4, 5}"
      ]
     },
     "execution_count": 6,
     "metadata": {},
     "output_type": "execute_result"
    }
   ],
   "execution_count": 6
  },
  {
   "cell_type": "markdown",
   "id": "de10e1fe-c22d-40e1-bce6-067dddef6b04",
   "metadata": {},
   "source": [
    "Get the set of hyperedges."
   ]
  },
  {
   "cell_type": "code",
   "id": "13c1483e4947b5b7",
   "metadata": {
    "ExecuteTime": {
     "end_time": "2024-09-28T12:33:23.030911Z",
     "start_time": "2024-09-28T12:33:23.028999Z"
    }
   },
   "source": [
    "H.hyperedges()"
   ],
   "outputs": [
    {
     "data": {
      "text/plain": [
       "[[0, 1, 2], [0, 1, 2], [2, 3, 4], [3, 4, 5, 5]]"
      ]
     },
     "execution_count": 7,
     "metadata": {},
     "output_type": "execute_result"
    }
   ],
   "execution_count": 7
  },
  {
   "cell_type": "markdown",
   "id": "0757e504-2c71-4c47-8843-6cab1fa7ad6c",
   "metadata": {},
   "source": [
    "Get the set of hyperedges to which a certain node belongs."
   ]
  },
  {
   "cell_type": "code",
   "id": "99818edeafa2bb2c",
   "metadata": {
    "ExecuteTime": {
     "end_time": "2024-09-28T12:33:23.033201Z",
     "start_time": "2024-09-28T12:33:23.031498Z"
    }
   },
   "source": [
    "H.hyperedges_incident_with_node(3)"
   ],
   "outputs": [
    {
     "data": {
      "text/plain": [
       "[2, 3]"
      ]
     },
     "execution_count": 8,
     "metadata": {},
     "output_type": "execute_result"
    }
   ],
   "execution_count": 8
  },
  {
   "cell_type": "markdown",
   "id": "6734566f-5f8a-4af3-8e3a-5c237e1a785d",
   "metadata": {},
   "source": [
    "Get the set of nodes that belong to the hyperedge of given index *m*.  \n",
    "It is equivalent to *H.hyperedges()[m]*."
   ]
  },
  {
   "cell_type": "code",
   "id": "e713f26386e0b4b",
   "metadata": {
    "ExecuteTime": {
     "end_time": "2024-09-28T12:33:23.035731Z",
     "start_time": "2024-09-28T12:33:23.033782Z"
    }
   },
   "source": [
    "H.nodes_incident_with_hyperedge(0)"
   ],
   "outputs": [
    {
     "data": {
      "text/plain": [
       "[0, 1, 2]"
      ]
     },
     "execution_count": 9,
     "metadata": {},
     "output_type": "execute_result"
    }
   ],
   "execution_count": 9
  },
  {
   "cell_type": "markdown",
   "id": "dd001f10-d8eb-43aa-87a4-30db58fba6b0",
   "metadata": {},
   "source": [
    "Get the degree of each node.  \n",
    "The degree of node *v* is the number of hyperedges to which *v* belongs."
   ]
  },
  {
   "cell_type": "code",
   "id": "cc96c680d10aee53",
   "metadata": {
    "ExecuteTime": {
     "end_time": "2024-09-28T12:33:23.038253Z",
     "start_time": "2024-09-28T12:33:23.036290Z"
    }
   },
   "source": [
    "H.node_degree()"
   ],
   "outputs": [
    {
     "data": {
      "text/plain": [
       "{0: 2, 1: 2, 2: 3, 3: 2, 4: 2, 5: 2}"
      ]
     },
     "execution_count": 10,
     "metadata": {},
     "output_type": "execute_result"
    }
   ],
   "execution_count": 10
  },
  {
   "cell_type": "markdown",
   "id": "1ad43911-f9b7-4c32-9972-33e1fec55ab8",
   "metadata": {},
   "source": [
    "Get the degree of a certain node."
   ]
  },
  {
   "cell_type": "code",
   "id": "f46f603f08efbea4",
   "metadata": {
    "ExecuteTime": {
     "end_time": "2024-09-28T12:33:23.042036Z",
     "start_time": "2024-09-28T12:33:23.040054Z"
    }
   },
   "source": [
    "H.node_degree(3)"
   ],
   "outputs": [
    {
     "data": {
      "text/plain": [
       "2"
      ]
     },
     "execution_count": 11,
     "metadata": {},
     "output_type": "execute_result"
    }
   ],
   "execution_count": 11
  },
  {
   "cell_type": "markdown",
   "id": "a8ae3731-1053-4d19-afaf-fbd44058d50e",
   "metadata": {},
   "source": [
    "Get the size of each hyperedge.  \n",
    "The size of hyperedge *e* is the number of nodes that belongs to *e*."
   ]
  },
  {
   "cell_type": "code",
   "id": "fbf5de3600eacb88",
   "metadata": {
    "ExecuteTime": {
     "end_time": "2024-09-28T12:33:23.044483Z",
     "start_time": "2024-09-28T12:33:23.042576Z"
    }
   },
   "source": [
    "H.hyperedge_size()"
   ],
   "outputs": [
    {
     "data": {
      "text/plain": [
       "{0: 3, 1: 3, 2: 3, 3: 4}"
      ]
     },
     "execution_count": 12,
     "metadata": {},
     "output_type": "execute_result"
    }
   ],
   "execution_count": 12
  },
  {
   "cell_type": "markdown",
   "id": "48404703-10b0-4917-8ce9-3293c8515e70",
   "metadata": {},
   "source": [
    "Get the size of a certain hyperedge."
   ]
  },
  {
   "cell_type": "code",
   "id": "558432f94ddc8748",
   "metadata": {
    "ExecuteTime": {
     "end_time": "2024-09-28T12:33:23.047022Z",
     "start_time": "2024-09-28T12:33:23.045115Z"
    }
   },
   "source": [
    "H.hyperedge_size(0)"
   ],
   "outputs": [
    {
     "data": {
      "text/plain": [
       "3"
      ]
     },
     "execution_count": 13,
     "metadata": {},
     "output_type": "execute_result"
    }
   ],
   "execution_count": 13
  },
  {
   "cell_type": "markdown",
   "id": "5c828b8d-6717-4cc5-905a-b529f6db6215",
   "metadata": {},
   "source": [
    "Get the joint degree distribution.  \n",
    "Please see the following paper for the definition.  \n",
    "Kazuki Nakajima, Kazuyuki Shudo, Naoki Masuda. Randomizing Hypergraphs Preserving Degree Correlation and Local Clustering. December 2021. [<a href=\"https://doi.org/10.1109/TNSE.2021.3133380\">paper</a>]"
   ]
  },
  {
   "cell_type": "code",
   "id": "e0eb412eef728dcd",
   "metadata": {
    "ExecuteTime": {
     "end_time": "2024-09-28T12:33:23.049405Z",
     "start_time": "2024-09-28T12:33:23.047562Z"
    }
   },
   "source": [
    "H.joint_node_degree_distribution()"
   ],
   "outputs": [
    {
     "data": {
      "text/plain": [
       "{(2, 2): 0.6, (2, 3): 0.2, (3, 2): 0.2, (3, 3): 0.0}"
      ]
     },
     "execution_count": 14,
     "metadata": {},
     "output_type": "execute_result"
    }
   ],
   "execution_count": 14
  },
  {
   "cell_type": "markdown",
   "id": "b35a2355-c2aa-4c83-9cd2-4105dfdaefa2",
   "metadata": {},
   "source": [
    "Get the redundancy coefficient of each node.  \n",
    "Please see the following paper for the definition.  \n",
    "Kazuki Nakajima, Kazuyuki Shudo, Naoki Masuda. Randomizing Hypergraphs Preserving Degree Correlation and Local Clustering. December 2021. [<a href=\"https://doi.org/10.1109/TNSE.2021.3133380\">paper</a>]"
   ]
  },
  {
   "cell_type": "code",
   "id": "d2327bf79635b10d",
   "metadata": {
    "ExecuteTime": {
     "end_time": "2024-09-28T12:33:23.051699Z",
     "start_time": "2024-09-28T12:33:23.049954Z"
    }
   },
   "source": [
    "H.node_redundancy_coefficient()"
   ],
   "outputs": [
    {
     "data": {
      "text/plain": [
       "{0: 1.0, 1: 1.0, 2: 0.3333333333333333, 3: 1.0, 4: 1.0, 5: 0.0}"
      ]
     },
     "execution_count": 15,
     "metadata": {},
     "output_type": "execute_result"
    }
   ],
   "execution_count": 15
  },
  {
   "cell_type": "markdown",
   "id": "6a777990-e5ab-4527-81c0-a31e3a46b7b0",
   "metadata": {},
   "source": [
    "Get the degree-dependent redundancy coefficient of the node.  \n",
    "Please see the following paper for the definition.  \n",
    "Kazuki Nakajima, Kazuyuki Shudo, Naoki Masuda. Randomizing Hypergraphs Preserving Degree Correlation and Local Clustering. December 2021. [<a href=\"https://doi.org/10.1109/TNSE.2021.3133380\">paper</a>]"
   ]
  },
  {
   "cell_type": "code",
   "id": "8e248134523b1b15",
   "metadata": {
    "ExecuteTime": {
     "end_time": "2024-09-28T12:33:23.054053Z",
     "start_time": "2024-09-28T12:33:23.052288Z"
    }
   },
   "source": [
    "H.degree_dependent_node_redundancy_coefficient()"
   ],
   "outputs": [
    {
     "data": {
      "text/plain": [
       "{2: 0.8, 3: 0.3333333333333333}"
      ]
     },
     "execution_count": 16,
     "metadata": {},
     "output_type": "execute_result"
    }
   ],
   "execution_count": 16
  },
  {
   "cell_type": "markdown",
   "id": "262f1206-96fc-4353-adb1-ca12bbb230a9",
   "metadata": {},
   "source": [
    "Get the distribution of shortest path length between nodes.  \n",
    "Please see the following paper for the definition.  \n",
    "Kazuki Nakajima, Kazuyuki Shudo, Naoki Masuda. Randomizing Hypergraphs Preserving Degree Correlation and Local Clustering. December 2021. [<a href=\"https://doi.org/10.1109/TNSE.2021.3133380\">paper</a>]"
   ]
  },
  {
   "cell_type": "code",
   "id": "c0d31ac10285fc55",
   "metadata": {
    "ExecuteTime": {
     "end_time": "2024-09-28T12:33:23.056467Z",
     "start_time": "2024-09-28T12:33:23.054652Z"
    }
   },
   "source": [
    "H.node_shortest_path_length_distribution()"
   ],
   "outputs": [
    {
     "data": {
      "text/plain": [
       "{1: 16, 2: 10, 3: 4}"
      ]
     },
     "execution_count": 17,
     "metadata": {},
     "output_type": "execute_result"
    }
   ],
   "execution_count": 17
  },
  {
   "metadata": {},
   "cell_type": "markdown",
   "source": [
    "You can convert the hypergraph to the *hypernetx.Hypergraph* object.  \n",
    "Please see <a href=\"https://github.com/pnnl/HyperNetX\">HyperNetX</a> page for the usage of HyperNetX.  \n",
    "Note that the incidence matrix of the hypergraph is composed of the number of times each node belongs to each hyperedge.  \n",
    "This is because hypergraph.HyperGraph object in our code allows multiple hyperedges and self-loops."
   ],
   "id": "66e80e682bcbc066"
  },
  {
   "metadata": {
    "ExecuteTime": {
     "end_time": "2024-09-28T12:33:23.069151Z",
     "start_time": "2024-09-28T12:33:23.057081Z"
    }
   },
   "cell_type": "code",
   "source": [
    "H_hnx = H.convert_to_hnx_hypergraph()\n",
    "H_hnx.dataframe"
   ],
   "id": "9e610440927636b9",
   "outputs": [
    {
     "data": {
      "text/plain": [
       "    edges  nodes  weight misc_properties\n",
       "0       0      0       1              {}\n",
       "1       1      0       1              {}\n",
       "2       0      1       1              {}\n",
       "3       1      1       1              {}\n",
       "4       0      2       1              {}\n",
       "5       1      2       1              {}\n",
       "6       2      2       1              {}\n",
       "7       2      3       1              {}\n",
       "8       3      3       1              {}\n",
       "9       2      4       1              {}\n",
       "10      3      4       1              {}\n",
       "11      3      5       2              {}"
      ],
      "text/html": [
       "<div>\n",
       "<style scoped>\n",
       "    .dataframe tbody tr th:only-of-type {\n",
       "        vertical-align: middle;\n",
       "    }\n",
       "\n",
       "    .dataframe tbody tr th {\n",
       "        vertical-align: top;\n",
       "    }\n",
       "\n",
       "    .dataframe thead th {\n",
       "        text-align: right;\n",
       "    }\n",
       "</style>\n",
       "<table border=\"1\" class=\"dataframe\">\n",
       "  <thead>\n",
       "    <tr style=\"text-align: right;\">\n",
       "      <th></th>\n",
       "      <th>edges</th>\n",
       "      <th>nodes</th>\n",
       "      <th>weight</th>\n",
       "      <th>misc_properties</th>\n",
       "    </tr>\n",
       "  </thead>\n",
       "  <tbody>\n",
       "    <tr>\n",
       "      <th>0</th>\n",
       "      <td>0</td>\n",
       "      <td>0</td>\n",
       "      <td>1</td>\n",
       "      <td>{}</td>\n",
       "    </tr>\n",
       "    <tr>\n",
       "      <th>1</th>\n",
       "      <td>1</td>\n",
       "      <td>0</td>\n",
       "      <td>1</td>\n",
       "      <td>{}</td>\n",
       "    </tr>\n",
       "    <tr>\n",
       "      <th>2</th>\n",
       "      <td>0</td>\n",
       "      <td>1</td>\n",
       "      <td>1</td>\n",
       "      <td>{}</td>\n",
       "    </tr>\n",
       "    <tr>\n",
       "      <th>3</th>\n",
       "      <td>1</td>\n",
       "      <td>1</td>\n",
       "      <td>1</td>\n",
       "      <td>{}</td>\n",
       "    </tr>\n",
       "    <tr>\n",
       "      <th>4</th>\n",
       "      <td>0</td>\n",
       "      <td>2</td>\n",
       "      <td>1</td>\n",
       "      <td>{}</td>\n",
       "    </tr>\n",
       "    <tr>\n",
       "      <th>5</th>\n",
       "      <td>1</td>\n",
       "      <td>2</td>\n",
       "      <td>1</td>\n",
       "      <td>{}</td>\n",
       "    </tr>\n",
       "    <tr>\n",
       "      <th>6</th>\n",
       "      <td>2</td>\n",
       "      <td>2</td>\n",
       "      <td>1</td>\n",
       "      <td>{}</td>\n",
       "    </tr>\n",
       "    <tr>\n",
       "      <th>7</th>\n",
       "      <td>2</td>\n",
       "      <td>3</td>\n",
       "      <td>1</td>\n",
       "      <td>{}</td>\n",
       "    </tr>\n",
       "    <tr>\n",
       "      <th>8</th>\n",
       "      <td>3</td>\n",
       "      <td>3</td>\n",
       "      <td>1</td>\n",
       "      <td>{}</td>\n",
       "    </tr>\n",
       "    <tr>\n",
       "      <th>9</th>\n",
       "      <td>2</td>\n",
       "      <td>4</td>\n",
       "      <td>1</td>\n",
       "      <td>{}</td>\n",
       "    </tr>\n",
       "    <tr>\n",
       "      <th>10</th>\n",
       "      <td>3</td>\n",
       "      <td>4</td>\n",
       "      <td>1</td>\n",
       "      <td>{}</td>\n",
       "    </tr>\n",
       "    <tr>\n",
       "      <th>11</th>\n",
       "      <td>3</td>\n",
       "      <td>5</td>\n",
       "      <td>2</td>\n",
       "      <td>{}</td>\n",
       "    </tr>\n",
       "  </tbody>\n",
       "</table>\n",
       "</div>"
      ]
     },
     "execution_count": 18,
     "metadata": {},
     "output_type": "execute_result"
    }
   ],
   "execution_count": 18
  },
  {
   "cell_type": "markdown",
   "id": "7843509b-e869-4e6d-a2dd-2983b82926ac",
   "metadata": {},
   "source": [
    "Read *example-hypergraph* in the folder *hyper-dk-series/data/*."
   ]
  },
  {
   "cell_type": "code",
   "id": "31168093eb186901",
   "metadata": {
    "ExecuteTime": {
     "end_time": "2024-09-28T12:33:23.071757Z",
     "start_time": "2024-09-28T12:33:23.069901Z"
    }
   },
   "source": [
    "H = hypergraph.read_hypergraph(\"example-hypergraph\")"
   ],
   "outputs": [],
   "execution_count": 19
  },
  {
   "cell_type": "code",
   "id": "a988470b57380fef",
   "metadata": {
    "ExecuteTime": {
     "end_time": "2024-09-28T12:33:23.074222Z",
     "start_time": "2024-09-28T12:33:23.072434Z"
    }
   },
   "source": [
    "H.print_info()"
   ],
   "outputs": [
    {
     "name": "stdout",
     "output_type": "stream",
     "text": [
      "Number of nodes: 5\n",
      "Number of hyperedges: 5\n",
      "Average degree of node: 3.2\n",
      "Maximum degree of node: 5\n",
      "Frequency distribution of node degree: {4: 2, 5: 1, 2: 1, 1: 1}\n",
      "Average size of hyperedge: 3.2\n",
      "Maximum size of hyperedge: 5\n",
      "Frequency distribution of hyperedge size: {2: 2, 3: 1, 4: 1, 5: 1}\n",
      "Hypergraph is connected: True\n",
      "\n"
     ]
    }
   ],
   "execution_count": 20
  },
  {
   "cell_type": "markdown",
   "id": "68ec322b-5624-4eb9-9eed-bb876cce9ac9",
   "metadata": {},
   "source": [
    "Read *syn1000* in the folder *hyper-dk-series/data/*."
   ]
  },
  {
   "cell_type": "code",
   "id": "5c855f632440ea6f",
   "metadata": {
    "ExecuteTime": {
     "end_time": "2024-09-28T12:33:23.227549Z",
     "start_time": "2024-09-28T12:33:23.074870Z"
    }
   },
   "source": [
    "H = hypergraph.read_hypergraph(\"syn1000\")"
   ],
   "outputs": [],
   "execution_count": 21
  },
  {
   "cell_type": "code",
   "id": "d709cedb21ac83bd",
   "metadata": {
    "ExecuteTime": {
     "end_time": "2024-09-28T12:33:23.234812Z",
     "start_time": "2024-09-28T12:33:23.228469Z"
    }
   },
   "source": [
    "H.print_info()"
   ],
   "outputs": [
    {
     "name": "stdout",
     "output_type": "stream",
     "text": [
      "Number of nodes: 1000\n",
      "Number of hyperedges: 4996\n",
      "Average degree of node: 15.992\n",
      "Maximum degree of node: 86\n",
      "Frequency distribution of node degree: {67: 1, 46: 1, 39: 1, 81: 1, 86: 1, 47: 1, 13: 86, 29: 4, 34: 2, 24: 10, 26: 3, 38: 3, 30: 1, 25: 14, 40: 2, 11: 67, 19: 45, 43: 1, 35: 1, 20: 47, 18: 73, 9: 41, 23: 20, 17: 70, 31: 1, 51: 1, 16: 115, 15: 114, 21: 27, 22: 28, 14: 87, 12: 67, 33: 1, 27: 3, 10: 35, 7: 5, 8: 17, 6: 2, 5: 1}\n",
      "Average size of hyperedge: 3.200960768614892\n",
      "Maximum size of hyperedge: 5\n",
      "Frequency distribution of hyperedge size: {2: 1996, 3: 1000, 4: 1000, 5: 1000}\n",
      "Hypergraph is connected: True\n",
      "\n"
     ]
    }
   ],
   "execution_count": 22
  }
 ],
 "metadata": {
  "kernelspec": {
   "display_name": "Python 3 (ipykernel)",
   "language": "python",
   "name": "python3"
  },
  "language_info": {
   "codemirror_mode": {
    "name": "ipython",
    "version": 3
   },
   "file_extension": ".py",
   "mimetype": "text/x-python",
   "name": "python",
   "nbconvert_exporter": "python",
   "pygments_lexer": "ipython3",
   "version": "3.10.15"
  }
 },
 "nbformat": 4,
 "nbformat_minor": 5
}
