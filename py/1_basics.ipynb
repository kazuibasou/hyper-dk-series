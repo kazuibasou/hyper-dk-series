{
 "cells": [
  {
   "cell_type": "markdown",
   "id": "afafe11a-ea09-412e-96fc-19e5554ff80d",
   "metadata": {},
   "source": [
    "Here, let us learn how to handle the hypergraph data you have on hand.  \n",
    "We first import *hypergraph.py*."
   ]
  },
  {
   "cell_type": "code",
   "execution_count": 1,
   "id": "9809ec5f3f4c7ef1",
   "metadata": {
    "ExecuteTime": {
     "end_time": "2024-09-27T18:34:27.936636Z",
     "start_time": "2024-09-27T18:34:27.450175Z"
    }
   },
   "outputs": [],
   "source": [
    "import hypergraph"
   ]
  },
  {
   "cell_type": "markdown",
   "id": "5828845a-fb93-4c5c-b7b7-83ed90278018",
   "metadata": {},
   "source": [
    "Let us construct a toy hypergraph using *hypergraph.HyperGraph* class."
   ]
  },
  {
   "cell_type": "code",
   "execution_count": 2,
   "id": "f61991185a107a75",
   "metadata": {
    "ExecuteTime": {
     "end_time": "2024-09-27T18:34:27.939286Z",
     "start_time": "2024-09-27T18:34:27.937624Z"
    }
   },
   "outputs": [],
   "source": [
    "H = hypergraph.HyperGraph()"
   ]
  },
  {
   "cell_type": "markdown",
   "id": "a3ea32f8-ed0a-4874-aa67-c6b0077d13a7",
   "metadata": {},
   "source": [
    "Represent hyperedges as a list of lists, where each list represents a hyperedge.  \n",
    "We allow multiple hyperedges and self-loops.  \n",
    "Then, construct the hypergraph from the hyperedges."
   ]
  },
  {
   "cell_type": "code",
   "execution_count": 3,
   "id": "9a0d39a1994db791",
   "metadata": {
    "ExecuteTime": {
     "end_time": "2024-09-27T18:34:27.941660Z",
     "start_time": "2024-09-27T18:34:27.939998Z"
    }
   },
   "outputs": [],
   "source": [
    "E = [[0, 1, 2], [1, 2, 3], [2, 3, 4], [3, 4, 5, 6]]\n",
    "H.add_hyperedges_from(E)"
   ]
  },
  {
   "cell_type": "markdown",
   "id": "cb852da8-170e-42fc-96f8-22f0beb81e94",
   "metadata": {},
   "source": [
    "Print basic properties of the hypergraph."
   ]
  },
  {
   "cell_type": "code",
   "execution_count": 4,
   "id": "a0c8adfe481bce67",
   "metadata": {
    "ExecuteTime": {
     "end_time": "2024-09-27T18:34:27.944112Z",
     "start_time": "2024-09-27T18:34:27.942329Z"
    }
   },
   "outputs": [
    {
     "name": "stdout",
     "output_type": "stream",
     "text": [
      "Number of nodes: 7\n",
      "Number of hyperedges: 4\n",
      "Average degree of node: 1.8571428571428572\n",
      "Maximum degree of node: 3\n",
      "Frequency distribution of node degree: {1: 3, 2: 2, 3: 2}\n",
      "Average size of hyperedge: 3.25\n",
      "Maximum size of hyperedge: 4\n",
      "Frequency distribution of hyperedge size: {3: 3, 4: 1}\n",
      "Hypergraph is connected: True\n",
      "\n"
     ]
    }
   ],
   "source": [
    "H.print_info()"
   ]
  },
  {
   "cell_type": "markdown",
   "id": "45ea1700-3256-41e4-b27a-3729a477a5ba",
   "metadata": {},
   "source": [
    "Get the set of nodes."
   ]
  },
  {
   "cell_type": "code",
   "execution_count": 5,
   "id": "1b9d1be70fbdac7d",
   "metadata": {
    "ExecuteTime": {
     "end_time": "2024-09-27T18:34:27.948414Z",
     "start_time": "2024-09-27T18:34:27.945413Z"
    }
   },
   "outputs": [
    {
     "data": {
      "text/plain": [
       "{0, 1, 2, 3, 4, 5, 6}"
      ]
     },
     "execution_count": 5,
     "metadata": {},
     "output_type": "execute_result"
    }
   ],
   "source": [
    "H.nodes()"
   ]
  },
  {
   "cell_type": "markdown",
   "id": "de10e1fe-c22d-40e1-bce6-067dddef6b04",
   "metadata": {},
   "source": [
    "Get the set of hyperedges."
   ]
  },
  {
   "cell_type": "code",
   "execution_count": 6,
   "id": "13c1483e4947b5b7",
   "metadata": {
    "ExecuteTime": {
     "end_time": "2024-09-27T18:34:27.951018Z",
     "start_time": "2024-09-27T18:34:27.949051Z"
    }
   },
   "outputs": [
    {
     "data": {
      "text/plain": [
       "[[0, 1, 2], [1, 2, 3], [2, 3, 4], [3, 4, 5, 6]]"
      ]
     },
     "execution_count": 6,
     "metadata": {},
     "output_type": "execute_result"
    }
   ],
   "source": [
    "H.hyperedges()"
   ]
  },
  {
   "cell_type": "markdown",
   "id": "0757e504-2c71-4c47-8843-6cab1fa7ad6c",
   "metadata": {},
   "source": [
    "Get the set of hyperedges to which a certain node belongs."
   ]
  },
  {
   "cell_type": "code",
   "execution_count": 7,
   "id": "99818edeafa2bb2c",
   "metadata": {
    "ExecuteTime": {
     "end_time": "2024-09-27T18:34:27.953306Z",
     "start_time": "2024-09-27T18:34:27.951488Z"
    }
   },
   "outputs": [
    {
     "data": {
      "text/plain": [
       "[1, 2, 3]"
      ]
     },
     "execution_count": 7,
     "metadata": {},
     "output_type": "execute_result"
    }
   ],
   "source": [
    "H.hyperedges_incident_with_node(3)"
   ]
  },
  {
   "cell_type": "markdown",
   "id": "6734566f-5f8a-4af3-8e3a-5c237e1a785d",
   "metadata": {},
   "source": [
    "Get the set of nodes that belong to the hyperedge of given index *m*.  \n",
    "It is equivalent to *H.hyperedges()[m]*."
   ]
  },
  {
   "cell_type": "code",
   "execution_count": 8,
   "id": "e713f26386e0b4b",
   "metadata": {
    "ExecuteTime": {
     "end_time": "2024-09-27T18:34:27.955859Z",
     "start_time": "2024-09-27T18:34:27.953899Z"
    }
   },
   "outputs": [
    {
     "data": {
      "text/plain": [
       "[0, 1, 2]"
      ]
     },
     "execution_count": 8,
     "metadata": {},
     "output_type": "execute_result"
    }
   ],
   "source": [
    "H.nodes_incident_with_hyperedge(0)"
   ]
  },
  {
   "cell_type": "markdown",
   "id": "dd001f10-d8eb-43aa-87a4-30db58fba6b0",
   "metadata": {},
   "source": [
    "Get the degree of each node.  \n",
    "The degree of node *v* is the number of hyperedges to which *v* belongs."
   ]
  },
  {
   "cell_type": "code",
   "execution_count": 9,
   "id": "cc96c680d10aee53",
   "metadata": {
    "ExecuteTime": {
     "end_time": "2024-09-27T18:34:27.958714Z",
     "start_time": "2024-09-27T18:34:27.956501Z"
    }
   },
   "outputs": [
    {
     "data": {
      "text/plain": [
       "{0: 1, 1: 2, 2: 3, 3: 3, 4: 2, 5: 1, 6: 1}"
      ]
     },
     "execution_count": 9,
     "metadata": {},
     "output_type": "execute_result"
    }
   ],
   "source": [
    "H.node_degree()"
   ]
  },
  {
   "cell_type": "markdown",
   "id": "1ad43911-f9b7-4c32-9972-33e1fec55ab8",
   "metadata": {},
   "source": [
    "Get the degree of a certain node."
   ]
  },
  {
   "cell_type": "code",
   "execution_count": 10,
   "id": "f46f603f08efbea4",
   "metadata": {
    "ExecuteTime": {
     "end_time": "2024-09-27T18:34:27.961407Z",
     "start_time": "2024-09-27T18:34:27.959289Z"
    }
   },
   "outputs": [
    {
     "data": {
      "text/plain": [
       "3"
      ]
     },
     "execution_count": 10,
     "metadata": {},
     "output_type": "execute_result"
    }
   ],
   "source": [
    "H.node_degree(3)"
   ]
  },
  {
   "cell_type": "markdown",
   "id": "a8ae3731-1053-4d19-afaf-fbd44058d50e",
   "metadata": {},
   "source": [
    "Get the size of each hyperedge.  \n",
    "The size of hyperedge *e* is the number of nodes that belongs to *e*."
   ]
  },
  {
   "cell_type": "code",
   "execution_count": 11,
   "id": "fbf5de3600eacb88",
   "metadata": {
    "ExecuteTime": {
     "end_time": "2024-09-27T18:34:27.963829Z",
     "start_time": "2024-09-27T18:34:27.961903Z"
    }
   },
   "outputs": [
    {
     "data": {
      "text/plain": [
       "{0: 3, 1: 3, 2: 3, 3: 4}"
      ]
     },
     "execution_count": 11,
     "metadata": {},
     "output_type": "execute_result"
    }
   ],
   "source": [
    "H.hyperedge_size()"
   ]
  },
  {
   "cell_type": "markdown",
   "id": "48404703-10b0-4917-8ce9-3293c8515e70",
   "metadata": {},
   "source": [
    "Get the size of a certain hyperedge."
   ]
  },
  {
   "cell_type": "code",
   "execution_count": 12,
   "id": "558432f94ddc8748",
   "metadata": {
    "ExecuteTime": {
     "end_time": "2024-09-27T18:34:27.966131Z",
     "start_time": "2024-09-27T18:34:27.964416Z"
    }
   },
   "outputs": [
    {
     "data": {
      "text/plain": [
       "3"
      ]
     },
     "execution_count": 12,
     "metadata": {},
     "output_type": "execute_result"
    }
   ],
   "source": [
    "H.hyperedge_size(0)"
   ]
  },
  {
   "cell_type": "markdown",
   "id": "5c828b8d-6717-4cc5-905a-b529f6db6215",
   "metadata": {},
   "source": [
    "Get the joint degree distribution.  \n",
    "Please see the following paper for the definition.  \n",
    "Kazuki Nakajima, Kazuyuki Shudo, Naoki Masuda. Randomizing Hypergraphs Preserving Degree Correlation and Local Clustering. December 2021. [<a href=\"https://doi.org/10.1109/TNSE.2021.3133380\">paper</a>]"
   ]
  },
  {
   "cell_type": "code",
   "execution_count": 13,
   "id": "e0eb412eef728dcd",
   "metadata": {
    "ExecuteTime": {
     "end_time": "2024-09-27T18:34:27.968729Z",
     "start_time": "2024-09-27T18:34:27.966668Z"
    }
   },
   "outputs": [
    {
     "data": {
      "text/plain": [
       "{(1, 1): 0.06666666666666667,\n",
       " (1, 2): 0.1,\n",
       " (1, 3): 0.1,\n",
       " (2, 1): 0.1,\n",
       " (2, 2): 0.0,\n",
       " (2, 3): 0.2,\n",
       " (3, 1): 0.1,\n",
       " (3, 2): 0.2,\n",
       " (3, 3): 0.13333333333333333}"
      ]
     },
     "execution_count": 13,
     "metadata": {},
     "output_type": "execute_result"
    }
   ],
   "source": [
    "H.joint_node_degree_distribution()"
   ]
  },
  {
   "cell_type": "markdown",
   "id": "b35a2355-c2aa-4c83-9cd2-4105dfdaefa2",
   "metadata": {},
   "source": [
    "Get the redundancy coefficient of each node.  \n",
    "Please see the following paper for the definition.  \n",
    "Kazuki Nakajima, Kazuyuki Shudo, Naoki Masuda. Randomizing Hypergraphs Preserving Degree Correlation and Local Clustering. December 2021. [<a href=\"https://doi.org/10.1109/TNSE.2021.3133380\">paper</a>]"
   ]
  },
  {
   "cell_type": "code",
   "execution_count": 14,
   "id": "d2327bf79635b10d",
   "metadata": {
    "ExecuteTime": {
     "end_time": "2024-09-27T18:34:27.972712Z",
     "start_time": "2024-09-27T18:34:27.970816Z"
    }
   },
   "outputs": [
    {
     "data": {
      "text/plain": [
       "{0: 0,\n",
       " 1: 1.0,\n",
       " 2: 0.6666666666666666,\n",
       " 3: 0.6666666666666666,\n",
       " 4: 1.0,\n",
       " 5: 0,\n",
       " 6: 0}"
      ]
     },
     "execution_count": 14,
     "metadata": {},
     "output_type": "execute_result"
    }
   ],
   "source": [
    "H.node_redundancy_coefficient()"
   ]
  },
  {
   "cell_type": "markdown",
   "id": "6a777990-e5ab-4527-81c0-a31e3a46b7b0",
   "metadata": {},
   "source": [
    "Get the degree-dependent redundancy coefficient of the node.  \n",
    "Please see the following paper for the definition.  \n",
    "Kazuki Nakajima, Kazuyuki Shudo, Naoki Masuda. Randomizing Hypergraphs Preserving Degree Correlation and Local Clustering. December 2021. [<a href=\"https://doi.org/10.1109/TNSE.2021.3133380\">paper</a>]"
   ]
  },
  {
   "cell_type": "code",
   "execution_count": 15,
   "id": "8e248134523b1b15",
   "metadata": {
    "ExecuteTime": {
     "end_time": "2024-09-27T18:34:27.975119Z",
     "start_time": "2024-09-27T18:34:27.973266Z"
    }
   },
   "outputs": [
    {
     "data": {
      "text/plain": [
       "{1: 0.0, 2: 1.0, 3: 0.6666666666666666}"
      ]
     },
     "execution_count": 15,
     "metadata": {},
     "output_type": "execute_result"
    }
   ],
   "source": [
    "H.degree_dependent_node_redundancy_coefficient()"
   ]
  },
  {
   "cell_type": "markdown",
   "id": "262f1206-96fc-4353-adb1-ca12bbb230a9",
   "metadata": {},
   "source": [
    "Get the distribution of shortest path length between nodes.  \n",
    "Please see the following paper for the definition.  \n",
    "Kazuki Nakajima, Kazuyuki Shudo, Naoki Masuda. Randomizing Hypergraphs Preserving Degree Correlation and Local Clustering. December 2021. [<a href=\"https://doi.org/10.1109/TNSE.2021.3133380\">paper</a>]"
   ]
  },
  {
   "cell_type": "code",
   "execution_count": 16,
   "id": "c0d31ac10285fc55",
   "metadata": {
    "ExecuteTime": {
     "end_time": "2024-09-27T18:34:27.977802Z",
     "start_time": "2024-09-27T18:34:27.975790Z"
    }
   },
   "outputs": [
    {
     "data": {
      "text/plain": [
       "{1: 24, 2: 14, 3: 4}"
      ]
     },
     "execution_count": 16,
     "metadata": {},
     "output_type": "execute_result"
    }
   ],
   "source": [
    "H.node_shortest_path_length_distribution()"
   ]
  },
  {
   "cell_type": "markdown",
   "id": "7843509b-e869-4e6d-a2dd-2983b82926ac",
   "metadata": {},
   "source": [
    "Read *example-hypergraph* in the folder *hyper-dk-series/data/*."
   ]
  },
  {
   "cell_type": "code",
   "execution_count": 17,
   "id": "31168093eb186901",
   "metadata": {
    "ExecuteTime": {
     "end_time": "2024-09-27T18:36:30.699873Z",
     "start_time": "2024-09-27T18:36:30.696010Z"
    }
   },
   "outputs": [],
   "source": [
    "H = hypergraph.read_hypergraph(\"example-hypergraph\")"
   ]
  },
  {
   "cell_type": "code",
   "execution_count": 18,
   "id": "a988470b57380fef",
   "metadata": {
    "ExecuteTime": {
     "end_time": "2024-09-27T18:36:36.633048Z",
     "start_time": "2024-09-27T18:36:36.630384Z"
    }
   },
   "outputs": [
    {
     "name": "stdout",
     "output_type": "stream",
     "text": [
      "Number of nodes: 5\n",
      "Number of hyperedges: 5\n",
      "Average degree of node: 3.2\n",
      "Maximum degree of node: 5\n",
      "Frequency distribution of node degree: {4: 2, 5: 1, 2: 1, 1: 1}\n",
      "Average size of hyperedge: 3.2\n",
      "Maximum size of hyperedge: 5\n",
      "Frequency distribution of hyperedge size: {2: 2, 3: 1, 4: 1, 5: 1}\n",
      "Hypergraph is connected: True\n",
      "\n"
     ]
    }
   ],
   "source": [
    "H.print_info()"
   ]
  },
  {
   "cell_type": "markdown",
   "id": "68ec322b-5624-4eb9-9eed-bb876cce9ac9",
   "metadata": {},
   "source": [
    "Read *syn1000* in the folder *hyper-dk-series/data/*."
   ]
  },
  {
   "cell_type": "code",
   "execution_count": 19,
   "id": "5c855f632440ea6f",
   "metadata": {
    "ExecuteTime": {
     "end_time": "2024-09-27T18:36:39.288904Z",
     "start_time": "2024-09-27T18:36:39.133277Z"
    }
   },
   "outputs": [],
   "source": [
    "H = hypergraph.read_hypergraph(\"syn1000\")"
   ]
  },
  {
   "cell_type": "code",
   "execution_count": 20,
   "id": "d709cedb21ac83bd",
   "metadata": {
    "ExecuteTime": {
     "end_time": "2024-09-27T18:36:39.721563Z",
     "start_time": "2024-09-27T18:36:39.712179Z"
    }
   },
   "outputs": [
    {
     "name": "stdout",
     "output_type": "stream",
     "text": [
      "Number of nodes: 1000\n",
      "Number of hyperedges: 4996\n",
      "Average degree of node: 15.992\n",
      "Maximum degree of node: 86\n",
      "Frequency distribution of node degree: {67: 1, 46: 1, 39: 1, 81: 1, 86: 1, 47: 1, 13: 86, 29: 4, 34: 2, 24: 10, 26: 3, 38: 3, 30: 1, 25: 14, 40: 2, 11: 67, 19: 45, 43: 1, 35: 1, 20: 47, 18: 73, 9: 41, 23: 20, 17: 70, 31: 1, 51: 1, 16: 115, 15: 114, 21: 27, 22: 28, 14: 87, 12: 67, 33: 1, 27: 3, 10: 35, 7: 5, 8: 17, 6: 2, 5: 1}\n",
      "Average size of hyperedge: 3.200960768614892\n",
      "Maximum size of hyperedge: 5\n",
      "Frequency distribution of hyperedge size: {2: 1996, 3: 1000, 4: 1000, 5: 1000}\n",
      "Hypergraph is connected: True\n",
      "\n"
     ]
    }
   ],
   "source": [
    "H.print_info()"
   ]
  }
 ],
 "metadata": {
  "kernelspec": {
   "display_name": "Python 3 (ipykernel)",
   "language": "python",
   "name": "python3"
  },
  "language_info": {
   "codemirror_mode": {
    "name": "ipython",
    "version": 3
   },
   "file_extension": ".py",
   "mimetype": "text/x-python",
   "name": "python",
   "nbconvert_exporter": "python",
   "pygments_lexer": "ipython3",
   "version": "3.9.13"
  }
 },
 "nbformat": 4,
 "nbformat_minor": 5
}
