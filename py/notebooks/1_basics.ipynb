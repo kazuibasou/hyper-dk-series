{
 "cells": [
  {
   "metadata": {
    "ExecuteTime": {
     "end_time": "2024-09-27T18:34:27.936636Z",
     "start_time": "2024-09-27T18:34:27.450175Z"
    }
   },
   "cell_type": "code",
   "source": "import hypergraph",
   "id": "9809ec5f3f4c7ef1",
   "outputs": [],
   "execution_count": 1
  },
  {
   "metadata": {
    "ExecuteTime": {
     "end_time": "2024-09-27T18:34:27.939286Z",
     "start_time": "2024-09-27T18:34:27.937624Z"
    }
   },
   "cell_type": "code",
   "source": "H = hypergraph.HyperGraph()",
   "id": "f61991185a107a75",
   "outputs": [],
   "execution_count": 2
  },
  {
   "metadata": {
    "ExecuteTime": {
     "end_time": "2024-09-27T18:34:27.941660Z",
     "start_time": "2024-09-27T18:34:27.939998Z"
    }
   },
   "cell_type": "code",
   "source": [
    "E = [[\"1\", \"2\", \"3\"], [\"2\", \"3\", \"4\"], [\"3\", \"4\", \"5\"], [\"4\", \"5\", \"6\", \"7\"]]\n",
    "H.add_hyperedges_from(E)"
   ],
   "id": "9a0d39a1994db791",
   "outputs": [],
   "execution_count": 3
  },
  {
   "metadata": {
    "ExecuteTime": {
     "end_time": "2024-09-27T18:34:27.944112Z",
     "start_time": "2024-09-27T18:34:27.942329Z"
    }
   },
   "cell_type": "code",
   "source": "H.print_info()",
   "id": "a0c8adfe481bce67",
   "outputs": [
    {
     "name": "stdout",
     "output_type": "stream",
     "text": [
      "Number of nodes: 7\n",
      "Number of hyperedges: 4\n",
      "Average degree of node: 1.8571428571428572\n",
      "Maximum degree of node: 3\n",
      "Frequency distribution of node degree: {3: 2, 1: 3, 2: 2}\n",
      "Average size of hyperedge: 3.25\n",
      "Maximum size of hyperedge: 4\n",
      "Frequency distribution of hyperedge size: {3: 3, 4: 1}\n",
      "Hypergraph is connected: True\n",
      "\n"
     ]
    }
   ],
   "execution_count": 4
  },
  {
   "metadata": {
    "ExecuteTime": {
     "end_time": "2024-09-27T18:34:27.948414Z",
     "start_time": "2024-09-27T18:34:27.945413Z"
    }
   },
   "cell_type": "code",
   "source": "H.nodes()",
   "id": "1b9d1be70fbdac7d",
   "outputs": [
    {
     "data": {
      "text/plain": [
       "{'1', '2', '3', '4', '5', '6', '7'}"
      ]
     },
     "execution_count": 5,
     "metadata": {},
     "output_type": "execute_result"
    }
   ],
   "execution_count": 5
  },
  {
   "metadata": {
    "ExecuteTime": {
     "end_time": "2024-09-27T18:34:27.951018Z",
     "start_time": "2024-09-27T18:34:27.949051Z"
    }
   },
   "cell_type": "code",
   "source": "H.hyperedges()",
   "id": "13c1483e4947b5b7",
   "outputs": [
    {
     "data": {
      "text/plain": [
       "[['1', '2', '3'], ['2', '3', '4'], ['3', '4', '5'], ['4', '5', '6', '7']]"
      ]
     },
     "execution_count": 6,
     "metadata": {},
     "output_type": "execute_result"
    }
   ],
   "execution_count": 6
  },
  {
   "metadata": {
    "ExecuteTime": {
     "end_time": "2024-09-27T18:34:27.953306Z",
     "start_time": "2024-09-27T18:34:27.951488Z"
    }
   },
   "cell_type": "code",
   "source": "H.hyperedges_incident_with_node(\"3\")",
   "id": "99818edeafa2bb2c",
   "outputs": [
    {
     "data": {
      "text/plain": [
       "[0, 1, 2]"
      ]
     },
     "execution_count": 7,
     "metadata": {},
     "output_type": "execute_result"
    }
   ],
   "execution_count": 7
  },
  {
   "metadata": {
    "ExecuteTime": {
     "end_time": "2024-09-27T18:34:27.955859Z",
     "start_time": "2024-09-27T18:34:27.953899Z"
    }
   },
   "cell_type": "code",
   "source": "H.nodes_incident_with_hyperedge(0)",
   "id": "e713f26386e0b4b",
   "outputs": [
    {
     "data": {
      "text/plain": [
       "['1', '2', '3']"
      ]
     },
     "execution_count": 8,
     "metadata": {},
     "output_type": "execute_result"
    }
   ],
   "execution_count": 8
  },
  {
   "metadata": {
    "ExecuteTime": {
     "end_time": "2024-09-27T18:34:27.958714Z",
     "start_time": "2024-09-27T18:34:27.956501Z"
    }
   },
   "cell_type": "code",
   "source": "H.node_degree()",
   "id": "cc96c680d10aee53",
   "outputs": [
    {
     "data": {
      "text/plain": [
       "{'1': 1, '2': 2, '3': 3, '4': 3, '5': 2, '6': 1, '7': 1}"
      ]
     },
     "execution_count": 9,
     "metadata": {},
     "output_type": "execute_result"
    }
   ],
   "execution_count": 9
  },
  {
   "metadata": {
    "ExecuteTime": {
     "end_time": "2024-09-27T18:34:27.961407Z",
     "start_time": "2024-09-27T18:34:27.959289Z"
    }
   },
   "cell_type": "code",
   "source": "H.node_degree('1')",
   "id": "f46f603f08efbea4",
   "outputs": [
    {
     "data": {
      "text/plain": [
       "1"
      ]
     },
     "execution_count": 10,
     "metadata": {},
     "output_type": "execute_result"
    }
   ],
   "execution_count": 10
  },
  {
   "metadata": {
    "ExecuteTime": {
     "end_time": "2024-09-27T18:34:27.963829Z",
     "start_time": "2024-09-27T18:34:27.961903Z"
    }
   },
   "cell_type": "code",
   "source": "H.hyperedge_size()",
   "id": "fbf5de3600eacb88",
   "outputs": [
    {
     "data": {
      "text/plain": [
       "{0: 3, 1: 3, 2: 3, 3: 4}"
      ]
     },
     "execution_count": 11,
     "metadata": {},
     "output_type": "execute_result"
    }
   ],
   "execution_count": 11
  },
  {
   "metadata": {
    "ExecuteTime": {
     "end_time": "2024-09-27T18:34:27.966131Z",
     "start_time": "2024-09-27T18:34:27.964416Z"
    }
   },
   "cell_type": "code",
   "source": "H.hyperedge_size(0)",
   "id": "558432f94ddc8748",
   "outputs": [
    {
     "data": {
      "text/plain": [
       "3"
      ]
     },
     "execution_count": 12,
     "metadata": {},
     "output_type": "execute_result"
    }
   ],
   "execution_count": 12
  },
  {
   "metadata": {
    "ExecuteTime": {
     "end_time": "2024-09-27T18:34:27.968729Z",
     "start_time": "2024-09-27T18:34:27.966668Z"
    }
   },
   "cell_type": "code",
   "source": "H.joint_node_degree_matrix()",
   "id": "e0eb412eef728dcd",
   "outputs": [
    {
     "data": {
      "text/plain": [
       "{(1, 1): 2,\n",
       " (1, 2): 3,\n",
       " (1, 3): 3,\n",
       " (2, 1): 3,\n",
       " (2, 2): 0,\n",
       " (2, 3): 6,\n",
       " (3, 1): 3,\n",
       " (3, 2): 6,\n",
       " (3, 3): 4}"
      ]
     },
     "execution_count": 13,
     "metadata": {},
     "output_type": "execute_result"
    }
   ],
   "execution_count": 13
  },
  {
   "metadata": {
    "ExecuteTime": {
     "end_time": "2024-09-27T18:34:27.972712Z",
     "start_time": "2024-09-27T18:34:27.970816Z"
    }
   },
   "cell_type": "code",
   "source": "H.node_redundancy_coefficient()",
   "id": "d2327bf79635b10d",
   "outputs": [
    {
     "data": {
      "text/plain": [
       "{'4': 0.6666666666666666,\n",
       " '3': 0.6666666666666666,\n",
       " '7': 0,\n",
       " '1': 0,\n",
       " '5': 1.0,\n",
       " '2': 1.0,\n",
       " '6': 0}"
      ]
     },
     "execution_count": 14,
     "metadata": {},
     "output_type": "execute_result"
    }
   ],
   "execution_count": 14
  },
  {
   "metadata": {
    "ExecuteTime": {
     "end_time": "2024-09-27T18:34:27.975119Z",
     "start_time": "2024-09-27T18:34:27.973266Z"
    }
   },
   "cell_type": "code",
   "source": "H.degree_dependent_node_redundancy_coefficient()",
   "id": "8e248134523b1b15",
   "outputs": [
    {
     "data": {
      "text/plain": [
       "{1: 0.0, 2: 1.0, 3: 0.6666666666666666}"
      ]
     },
     "execution_count": 15,
     "metadata": {},
     "output_type": "execute_result"
    }
   ],
   "execution_count": 15
  },
  {
   "metadata": {
    "ExecuteTime": {
     "end_time": "2024-09-27T18:34:27.977802Z",
     "start_time": "2024-09-27T18:34:27.975790Z"
    }
   },
   "cell_type": "code",
   "source": "H.node_shortest_path_length_distribution()",
   "id": "c0d31ac10285fc55",
   "outputs": [
    {
     "data": {
      "text/plain": [
       "{1: 24, 2: 14, 3: 4}"
      ]
     },
     "execution_count": 16,
     "metadata": {},
     "output_type": "execute_result"
    }
   ],
   "execution_count": 16
  },
  {
   "metadata": {
    "ExecuteTime": {
     "end_time": "2024-09-27T18:34:27.980172Z",
     "start_time": "2024-09-27T18:34:27.978427Z"
    }
   },
   "cell_type": "code",
   "source": "H.print_info()",
   "id": "542d87294de87d79",
   "outputs": [
    {
     "name": "stdout",
     "output_type": "stream",
     "text": [
      "Number of nodes: 7\n",
      "Number of hyperedges: 4\n",
      "Average degree of node: 1.8571428571428572\n",
      "Maximum degree of node: 3\n",
      "Frequency distribution of node degree: {3: 2, 1: 3, 2: 2}\n",
      "Average size of hyperedge: 3.25\n",
      "Maximum size of hyperedge: 4\n",
      "Frequency distribution of hyperedge size: {3: 3, 4: 1}\n",
      "Hypergraph is connected: True\n",
      "\n"
     ]
    }
   ],
   "execution_count": 17
  },
  {
   "metadata": {
    "ExecuteTime": {
     "end_time": "2024-09-27T18:36:30.699873Z",
     "start_time": "2024-09-27T18:36:30.696010Z"
    }
   },
   "cell_type": "code",
   "source": "H = hypergraph.read_hypergraph(\"example-hypergraph\")",
   "id": "31168093eb186901",
   "outputs": [],
   "execution_count": 21
  },
  {
   "metadata": {
    "ExecuteTime": {
     "end_time": "2024-09-27T18:36:36.633048Z",
     "start_time": "2024-09-27T18:36:36.630384Z"
    }
   },
   "cell_type": "code",
   "source": "H.print_info()",
   "id": "a988470b57380fef",
   "outputs": [
    {
     "name": "stdout",
     "output_type": "stream",
     "text": [
      "Number of nodes: 5\n",
      "Number of hyperedges: 5\n",
      "Average degree of node: 3.2\n",
      "Maximum degree of node: 5\n",
      "Frequency distribution of node degree: {4: 2, 5: 1, 2: 1, 1: 1}\n",
      "Average size of hyperedge: 3.2\n",
      "Maximum size of hyperedge: 5\n",
      "Frequency distribution of hyperedge size: {2: 2, 3: 1, 4: 1, 5: 1}\n",
      "Hypergraph is connected: True\n",
      "\n"
     ]
    }
   ],
   "execution_count": 22
  },
  {
   "metadata": {
    "ExecuteTime": {
     "end_time": "2024-09-27T18:36:39.288904Z",
     "start_time": "2024-09-27T18:36:39.133277Z"
    }
   },
   "cell_type": "code",
   "source": "H = hypergraph.read_hypergraph(\"syn1000\")",
   "id": "5c855f632440ea6f",
   "outputs": [],
   "execution_count": 23
  },
  {
   "metadata": {
    "ExecuteTime": {
     "end_time": "2024-09-27T18:36:39.721563Z",
     "start_time": "2024-09-27T18:36:39.712179Z"
    }
   },
   "cell_type": "code",
   "source": "H.print_info()",
   "id": "d709cedb21ac83bd",
   "outputs": [
    {
     "name": "stdout",
     "output_type": "stream",
     "text": [
      "Number of nodes: 1000\n",
      "Number of hyperedges: 4996\n",
      "Average degree of node: 15.992\n",
      "Maximum degree of node: 86\n",
      "Frequency distribution of node degree: {67: 1, 46: 1, 39: 1, 81: 1, 86: 1, 47: 1, 13: 86, 29: 4, 34: 2, 24: 10, 26: 3, 38: 3, 30: 1, 25: 14, 40: 2, 11: 67, 19: 45, 43: 1, 35: 1, 20: 47, 18: 73, 9: 41, 23: 20, 17: 70, 31: 1, 51: 1, 16: 115, 15: 114, 21: 27, 22: 28, 14: 87, 12: 67, 33: 1, 27: 3, 10: 35, 7: 5, 8: 17, 6: 2, 5: 1}\n",
      "Average size of hyperedge: 3.200960768614892\n",
      "Maximum size of hyperedge: 5\n",
      "Frequency distribution of hyperedge size: {2: 1996, 3: 1000, 4: 1000, 5: 1000}\n",
      "Hypergraph is connected: True\n",
      "\n"
     ]
    }
   ],
   "execution_count": 24
  },
  {
   "metadata": {},
   "cell_type": "code",
   "outputs": [],
   "execution_count": null,
   "source": "",
   "id": "b80706f96161762e"
  }
 ],
 "metadata": {
  "kernelspec": {
   "display_name": "Python 3",
   "language": "python",
   "name": "python3"
  },
  "language_info": {
   "codemirror_mode": {
    "name": "ipython",
    "version": 2
   },
   "file_extension": ".py",
   "mimetype": "text/x-python",
   "name": "python",
   "nbconvert_exporter": "python",
   "pygments_lexer": "ipython2",
   "version": "2.7.6"
  }
 },
 "nbformat": 4,
 "nbformat_minor": 5
}
