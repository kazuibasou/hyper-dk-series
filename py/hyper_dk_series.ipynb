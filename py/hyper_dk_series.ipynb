{
 "cells": [
  {
   "cell_type": "code",
<<<<<<< HEAD
   "execution_count": null,
   "id": "072a8df9-46e1-45a1-ba7e-b1496b0a37a3",
=======
   "execution_count": 1,
   "id": "b05f24d8-9214-490f-bc8c-9b510bea9f0d",
   "metadata": {},
   "outputs": [],
   "source": [
    "# Jupyter notebook for the hyper dK-series\n",
    "# Reference:\n",
    "# Kazuki Nakajima, Kazuyuki Shudo, Naoki Masuda. Randomizing Hypergraphs Preserving Degree Correlation and Local Clustering. December 2021.\n",
    "# https://doi.org/10.1109/TNSE.2021.3133380"
   ]
  },
  {
   "cell_type": "code",
   "execution_count": 2,
   "id": "93ea237a-cd72-4ef7-8b41-8aab7032c831",
   "metadata": {},
   "outputs": [],
   "source": [
    "import hypergraph\n",
    "import hyper_dk_series\n",
    "import math\n",
    "import sys\n",
    "import os\n",
    "\n",
    "os.makedirs(\"../rand_hypergraph\", exist_ok=True)"
   ]
  },
  {
   "cell_type": "code",
   "execution_count": 3,
   "id": "bda4e943-ac39-4b36-b7f8-27d070a85354",
   "metadata": {},
   "outputs": [
    {
     "name": "stdout",
     "output_type": "stream",
     "text": [
      "Hypergraph named example-hypergraph was read.\n",
      "Number of nodes: 5\n",
      "Number of hyperedges: 5\n"
     ]
    }
   ],
   "source": [
    "# Use a toy hypergraph as an example\n",
    "hypergraph_name = \"example-hypergraph\"\n",
    "\n",
    "G = hypergraph.HyperGraph()\n",
    "G.read_hypergraph(hypergraph_name)"
   ]
  },
  {
   "cell_type": "code",
   "execution_count": 4,
   "id": "821ecc2f-8b6c-43e4-be6f-819b728044c3",
   "metadata": {},
   "outputs": [],
   "source": [
    "# Specify the parameters d_v and d_e by strings.\n",
    "# The value of dv, which should be 0, 1, 2, or 2.5.\n",
    "# The value of de, which should be 0 or 1.\n",
    "d_v = \"1\"\n",
    "d_e = \"1\"\n",
    "\n",
    "# Specify the number of hypergraphs to be generated.\n",
    "num_gen = 10"
   ]
  },
  {
   "cell_type": "code",
   "execution_count": 5,
   "id": "7a497054-3159-4641-85b2-53e992a6a74e",
   "metadata": {},
   "outputs": [
    {
     "name": "stdout",
     "output_type": "stream",
     "text": [
      "Started 1-th randomization with (d_v, d_e) = (1, 1).\n",
      "\n",
      "Successfully generated a randomized hypergraph with (d_v, d_e) = (1, 1).\n",
      "\n"
     ]
    },
    {
     "ename": "NameError",
     "evalue": "name 'hypergraph_name' is not defined",
     "output_type": "error",
     "traceback": [
      "\u001b[0;31m---------------------------------------------------------------------------\u001b[0m",
      "\u001b[0;31mNameError\u001b[0m                                 Traceback (most recent call last)",
      "Cell \u001b[0;32mIn[5], line 2\u001b[0m\n\u001b[1;32m      1\u001b[0m \u001b[38;5;66;03m# Run the hyper dK-series\u001b[39;00m\n\u001b[0;32m----> 2\u001b[0m \u001b[43mhyper_dk_series\u001b[49m\u001b[38;5;241;43m.\u001b[39;49m\u001b[43mrun\u001b[49m\u001b[43m(\u001b[49m\u001b[43mG\u001b[49m\u001b[43m,\u001b[49m\u001b[43m \u001b[49m\u001b[43md_v\u001b[49m\u001b[43m,\u001b[49m\u001b[43m \u001b[49m\u001b[43md_e\u001b[49m\u001b[43m,\u001b[49m\u001b[43m \u001b[49m\u001b[43mnum_gen\u001b[49m\u001b[43m)\u001b[49m\n",
      "File \u001b[0;32m~/lab/hyper-dk-series/py/hyper_dk_series.py:219\u001b[0m, in \u001b[0;36mrun\u001b[0;34m(G, d_v, d_e, num_gen)\u001b[0m\n\u001b[1;32m    217\u001b[0m \t\t\u001b[38;5;28mprint\u001b[39m(\u001b[38;5;124m\"\u001b[39m\u001b[38;5;124mStarted \u001b[39m\u001b[38;5;124m\"\u001b[39m\u001b[38;5;241m+\u001b[39m \u001b[38;5;28mstr\u001b[39m(k) \u001b[38;5;241m+\u001b[39m \u001b[38;5;124m\"\u001b[39m\u001b[38;5;124m-th randomization with (d_v, d_e) = (\u001b[39m\u001b[38;5;124m\"\u001b[39m \u001b[38;5;241m+\u001b[39m d_v \u001b[38;5;241m+\u001b[39m \u001b[38;5;124m\"\u001b[39m\u001b[38;5;124m, \u001b[39m\u001b[38;5;124m\"\u001b[39m \u001b[38;5;241m+\u001b[39m d_e \u001b[38;5;241m+\u001b[39m \u001b[38;5;124m\"\u001b[39m\u001b[38;5;124m).\u001b[39m\u001b[38;5;130;01m\\n\u001b[39;00m\u001b[38;5;124m\"\u001b[39m)\n\u001b[1;32m    218\u001b[0m \t\trandG \u001b[38;5;241m=\u001b[39m randomizing_d_v_one_d_e_one(G)\n\u001b[0;32m--> 219\u001b[0m \t\twrite_randomized_hypergraph(\u001b[43mhypergraph_name\u001b[49m, d_v, d_e, k, randG)\n\u001b[1;32m    220\u001b[0m \u001b[38;5;28;01melif\u001b[39;00m d_v \u001b[38;5;241m==\u001b[39m \u001b[38;5;124m\"\u001b[39m\u001b[38;5;124m2\u001b[39m\u001b[38;5;124m\"\u001b[39m \u001b[38;5;129;01mand\u001b[39;00m d_e \u001b[38;5;241m==\u001b[39m \u001b[38;5;124m\"\u001b[39m\u001b[38;5;124m1\u001b[39m\u001b[38;5;124m\"\u001b[39m:\n\u001b[1;32m    221\u001b[0m \t\u001b[38;5;28;01mfor\u001b[39;00m k \u001b[38;5;129;01min\u001b[39;00m \u001b[38;5;28mrange\u001b[39m(\u001b[38;5;241m1\u001b[39m, num_gen\u001b[38;5;241m+\u001b[39m\u001b[38;5;241m1\u001b[39m):\n",
      "\u001b[0;31mNameError\u001b[0m: name 'hypergraph_name' is not defined"
     ]
    }
   ],
   "source": [
    "# Run the hyper dK-series\n",
    "hyper_dk_series.run(G, d_v, d_e, num_gen)"
   ]
  },
  {
   "cell_type": "code",
   "execution_count": null,
   "id": "a90221b2-c966-4d5f-987a-a07517f5d2ba",
>>>>>>> 1e8304d0b5324aaeb2769a6bc285819b63b1aa37
   "metadata": {},
   "outputs": [],
   "source": []
  }
 ],
 "metadata": {
  "kernelspec": {
   "display_name": "Python 3 (ipykernel)",
   "language": "python",
   "name": "python3"
  },
  "language_info": {
   "codemirror_mode": {
    "name": "ipython",
    "version": 3
   },
   "file_extension": ".py",
   "mimetype": "text/x-python",
   "name": "python",
   "nbconvert_exporter": "python",
   "pygments_lexer": "ipython3",
   "version": "3.9.0"
  }
 },
 "nbformat": 4,
 "nbformat_minor": 5
}
