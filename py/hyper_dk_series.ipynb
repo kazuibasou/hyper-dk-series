{
 "cells": [
  {
   "cell_type": "code",
   "execution_count": 1,
   "id": "919dcd29-5eca-49eb-a6d0-ed2c43bbf150",
   "metadata": {},
   "outputs": [],
   "source": [
    "# Jupyter notebook for the hyper dK-series\n",
    "# Reference:\n",
    "# Kazuki Nakajima, Kazuyuki Shudo, Naoki Masuda. Randomizing Hypergraphs Preserving Degree Correlation and Local Clustering. December 2021.\n",
    "# https://doi.org/10.1109/TNSE.2021.3133380"
   ]
  },
  {
   "cell_type": "code",
   "execution_count": 2,
   "id": "ebd12289-ace0-45f7-a8c2-aecf4d905097",
   "metadata": {},
   "outputs": [],
   "source": [
    "import hypergraph\n",
    "import hyper_dk_series\n",
    "import math\n",
    "import sys\n",
    "import os\n",
    "\n",
    "os.makedirs(\"../rand_hypergraph\", exist_ok=True)"
   ]
  },
  {
   "cell_type": "code",
   "execution_count": 3,
   "id": "dab8e573-dd27-48bb-8c86-ba5eee7d05fb",
   "metadata": {},
   "outputs": [
    {
     "name": "stdout",
     "output_type": "stream",
     "text": [
      "Hypergraph named example-hypergraph was read.\n",
      "Number of nodes: 5\n",
      "Number of hyperedges: 5\n"
     ]
    }
   ],
   "source": [
    "# Use a toy hypergraph as an example\n",
    "hypergraph_name = \"example-hypergraph\"\n",
    "\n",
    "G = hypergraph.HyperGraph()\n",
    "G.read_hypergraph(hypergraph_name)"
   ]
  },
  {
   "cell_type": "code",
   "execution_count": 4,
   "id": "95c53038-5e67-438e-ab9b-68fa4ad4229e",
   "metadata": {},
   "outputs": [],
   "source": [
    "# Specify the parameters d_v and d_e by strings.\n",
    "# The value of dv, which should be 0, 1, 2, or 2.5.\n",
    "# The value of de, which should be 0 or 1.\n",
    "d_v = \"1\"\n",
    "d_e = \"1\"\n",
    "\n",
    "# Specify the number of hypergraphs to be generated.\n",
    "num_gen = 10"
   ]
  },
  {
   "cell_type": "code",
   "execution_count": 5,
   "id": "8dd412ef-535a-4736-b108-34f43f5fcaca",
   "metadata": {},
   "outputs": [
    {
     "name": "stdout",
     "output_type": "stream",
     "text": [
      "Started 1-th randomization with (d_v, d_e) = (1, 1).\n",
      "\n",
      "Successfully generated a randomized hypergraph with (d_v, d_e) = (1, 1).\n",
      "\n",
      "Wrote the 1-th hypergraph randomized with (1, 1) at ./hyper_dk_series/rand_hypergraph/.\n",
      "\n",
      "Started 2-th randomization with (d_v, d_e) = (1, 1).\n",
      "\n",
      "Successfully generated a randomized hypergraph with (d_v, d_e) = (1, 1).\n",
      "\n",
      "Wrote the 2-th hypergraph randomized with (1, 1) at ./hyper_dk_series/rand_hypergraph/.\n",
      "\n",
      "Started 3-th randomization with (d_v, d_e) = (1, 1).\n",
      "\n",
      "Successfully generated a randomized hypergraph with (d_v, d_e) = (1, 1).\n",
      "\n",
      "Wrote the 3-th hypergraph randomized with (1, 1) at ./hyper_dk_series/rand_hypergraph/.\n",
      "\n",
      "Started 4-th randomization with (d_v, d_e) = (1, 1).\n",
      "\n",
      "Successfully generated a randomized hypergraph with (d_v, d_e) = (1, 1).\n",
      "\n",
      "Wrote the 4-th hypergraph randomized with (1, 1) at ./hyper_dk_series/rand_hypergraph/.\n",
      "\n",
      "Started 5-th randomization with (d_v, d_e) = (1, 1).\n",
      "\n",
      "Successfully generated a randomized hypergraph with (d_v, d_e) = (1, 1).\n",
      "\n",
      "Wrote the 5-th hypergraph randomized with (1, 1) at ./hyper_dk_series/rand_hypergraph/.\n",
      "\n",
      "Started 6-th randomization with (d_v, d_e) = (1, 1).\n",
      "\n",
      "Successfully generated a randomized hypergraph with (d_v, d_e) = (1, 1).\n",
      "\n",
      "Wrote the 6-th hypergraph randomized with (1, 1) at ./hyper_dk_series/rand_hypergraph/.\n",
      "\n",
      "Started 7-th randomization with (d_v, d_e) = (1, 1).\n",
      "\n",
      "Successfully generated a randomized hypergraph with (d_v, d_e) = (1, 1).\n",
      "\n",
      "Wrote the 7-th hypergraph randomized with (1, 1) at ./hyper_dk_series/rand_hypergraph/.\n",
      "\n",
      "Started 8-th randomization with (d_v, d_e) = (1, 1).\n",
      "\n",
      "Successfully generated a randomized hypergraph with (d_v, d_e) = (1, 1).\n",
      "\n",
      "Wrote the 8-th hypergraph randomized with (1, 1) at ./hyper_dk_series/rand_hypergraph/.\n",
      "\n",
      "Started 9-th randomization with (d_v, d_e) = (1, 1).\n",
      "\n",
      "Successfully generated a randomized hypergraph with (d_v, d_e) = (1, 1).\n",
      "\n",
      "Wrote the 9-th hypergraph randomized with (1, 1) at ./hyper_dk_series/rand_hypergraph/.\n",
      "\n",
      "Started 10-th randomization with (d_v, d_e) = (1, 1).\n",
      "\n",
      "Successfully generated a randomized hypergraph with (d_v, d_e) = (1, 1).\n",
      "\n",
      "Wrote the 10-th hypergraph randomized with (1, 1) at ./hyper_dk_series/rand_hypergraph/.\n",
      "\n"
     ]
    }
   ],
   "source": [
    "# Run the hyper dK-series\n",
    "hyper_dk_series.run(G, d_v, d_e, num_gen, hypergraph_name)"
   ]
  },
  {
   "cell_type": "code",
   "execution_count": null,
   "id": "3ad3d74b-7848-4cf1-a5c4-822eccf4cc73",
   "metadata": {},
   "outputs": [],
   "source": []
  }
 ],
 "metadata": {
  "kernelspec": {
   "display_name": "Python 3 (ipykernel)",
   "language": "python",
   "name": "python3"
  },
  "language_info": {
   "codemirror_mode": {
    "name": "ipython",
    "version": 3
   },
   "file_extension": ".py",
   "mimetype": "text/x-python",
   "name": "python",
   "nbconvert_exporter": "python",
   "pygments_lexer": "ipython3",
   "version": "3.9.0"
  }
 },
 "nbformat": 4,
 "nbformat_minor": 5
}
